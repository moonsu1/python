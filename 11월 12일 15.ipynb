{
 "cells": [
  {
   "cell_type": "markdown",
   "metadata": {},
   "source": [
    "# 파이썬의 문자열 인코딩"
   ]
  },
  {
   "cell_type": "code",
   "execution_count": 1,
   "metadata": {},
   "outputs": [],
   "source": [
    "#이썬 3에서는 기본 문자열의 자료형이 유니코드이며 자료형의 이름은 str 이다.\n",
    "#bytearray 명령어로 유니코드를 바이트열로 변환할 수 있다.\n",
    "#unicode명령으로 유니코드 코드 포인트 반환 가능"
   ]
  },
  {
   "cell_type": "code",
   "execution_count": 4,
   "metadata": {},
   "outputs": [
    {
     "data": {
      "text/plain": [
       "1"
      ]
     },
     "execution_count": 4,
     "metadata": {},
     "output_type": "execute_result"
    }
   ],
   "source": [
    "#한글 문자를 그냥 출력하는 것이 목적이면 굳이 유니코드를 변환할 필요가 없지만 분석을 해야한다면 무조건 바꿔줘야한다.\n",
    "#가 는 유니코드로 계산되면 원소수가 1로 계산된다\n",
    "u = \"가\"\n",
    "len(u)"
   ]
  },
  {
   "cell_type": "code",
   "execution_count": 5,
   "metadata": {},
   "outputs": [
    {
     "data": {
      "text/plain": [
       "2"
      ]
     },
     "execution_count": 5,
     "metadata": {},
     "output_type": "execute_result"
    }
   ],
   "source": [
    "#하지만 바이트 열이면 인코딩 방식에 따라 달라질 수 있다.   아래는 cp949로 변환했더니 원소가 2인것으로 표시되었다\n",
    "b= bytearray(\"가\", 'cp949')\n",
    "len(b)"
   ]
  },
  {
   "cell_type": "code",
   "execution_count": 7,
   "metadata": {},
   "outputs": [
    {
     "name": "stdout",
     "output_type": "stream",
     "text": [
      "3 3\n",
      "A B C\n",
      "가 나 다\n"
     ]
    }
   ],
   "source": [
    "#바이트열이면 글자를 한글자씩 분리할수 없다.\n",
    "u1 = \"ABC\"\n",
    "u2 = \"가나다\"\n",
    "print(len(u1), len(u2))\n",
    "print(u1[0], u1[1], u1[2])\n",
    "print(u2[0], u2[1], u2[2])\n",
    "#위는 유니코드이기 때문에 하나씩 출력가능"
   ]
  },
  {
   "cell_type": "code",
   "execution_count": 9,
   "metadata": {},
   "outputs": [
    {
     "name": "stdout",
     "output_type": "stream",
     "text": [
      "3 6\n",
      "A B C\n",
      "° ¡ ³ ª\n"
     ]
    }
   ],
   "source": [
    "b1 = bytearray(\"ABC\", 'cp949')\n",
    "b2 = bytearray(\"가나다\", 'cp949')\n",
    "print(len(b1), len(b2))\n",
    "print(chr(b1[0]), chr(b1[1]), chr(b1[2]))\n",
    "print(chr(b2[0]), chr(b2[1]), chr(b2[2]), chr(b2[3]))\n",
    "#위는 바이트열이므로 b2같은 경우에 분리되지 않는다."
   ]
  },
  {
   "cell_type": "code",
   "execution_count": 10,
   "metadata": {},
   "outputs": [
    {
     "data": {
      "text/plain": [
       "str"
      ]
     },
     "execution_count": 10,
     "metadata": {},
     "output_type": "execute_result"
    }
   ],
   "source": [
    "#유니코드를 바이트 열로 변환할때는 encode메서드를. 바이트열을 유니코드를 변환 할 때는 decode 메서드를 사용한다.\n",
    "#인코딩할때 출력장치(콘솔, 주피터 노트북)이 어떤 인코딩을 지원하는지를 미리 알고 있어야 한다,\n",
    "#예를들어 주피터에서는 utf-8 인코딩을 지원한다 .따라서 cp949로 인코딩한 바이트 열은 글자가 깨져서 보인다\n",
    "u =\"가나다\"\n",
    "type(u)"
   ]
  },
  {
   "cell_type": "code",
   "execution_count": 11,
   "metadata": {},
   "outputs": [
    {
     "data": {
      "text/plain": [
       "bytes"
      ]
     },
     "execution_count": 11,
     "metadata": {},
     "output_type": "execute_result"
    }
   ],
   "source": [
    "b1 = u.encode(\"cp949\")\n",
    "type(b1)"
   ]
  },
  {
   "cell_type": "code",
   "execution_count": 12,
   "metadata": {},
   "outputs": [
    {
     "data": {
      "text/plain": [
       "'가나다'"
      ]
     },
     "execution_count": 12,
     "metadata": {},
     "output_type": "execute_result"
    }
   ],
   "source": [
    "u"
   ]
  },
  {
   "cell_type": "code",
   "execution_count": 13,
   "metadata": {},
   "outputs": [
    {
     "data": {
      "text/plain": [
       "b'\\xb0\\xa1\\xb3\\xaa\\xb4\\xd9'"
      ]
     },
     "execution_count": 13,
     "metadata": {},
     "output_type": "execute_result"
    }
   ],
   "source": [
    "b1"
   ]
  },
  {
   "cell_type": "code",
   "execution_count": 14,
   "metadata": {},
   "outputs": [
    {
     "data": {
      "text/plain": [
       "bytes"
      ]
     },
     "execution_count": 14,
     "metadata": {},
     "output_type": "execute_result"
    }
   ],
   "source": [
    "b2 = u.encode(\"euc-kr\")\n",
    "type(b2)"
   ]
  },
  {
   "cell_type": "code",
   "execution_count": 15,
   "metadata": {},
   "outputs": [
    {
     "data": {
      "text/plain": [
       "b'\\xb0\\xa1\\xb3\\xaa\\xb4\\xd9'"
      ]
     },
     "execution_count": 15,
     "metadata": {},
     "output_type": "execute_result"
    }
   ],
   "source": [
    "b2"
   ]
  },
  {
   "cell_type": "code",
   "execution_count": 16,
   "metadata": {},
   "outputs": [
    {
     "data": {
      "text/plain": [
       "bytes"
      ]
     },
     "execution_count": 16,
     "metadata": {},
     "output_type": "execute_result"
    }
   ],
   "source": [
    "b3 = u.encode(\"utf-8\")\n",
    "type(b3)"
   ]
  },
  {
   "cell_type": "code",
   "execution_count": 17,
   "metadata": {},
   "outputs": [
    {
     "data": {
      "text/plain": [
       "b'\\xea\\xb0\\x80\\xeb\\x82\\x98\\xeb\\x8b\\xa4'"
      ]
     },
     "execution_count": 17,
     "metadata": {},
     "output_type": "execute_result"
    }
   ],
   "source": [
    "b3"
   ]
  },
  {
   "cell_type": "code",
   "execution_count": 19,
   "metadata": {},
   "outputs": [
    {
     "data": {
      "text/plain": [
       "'가나다'"
      ]
     },
     "execution_count": 19,
     "metadata": {},
     "output_type": "execute_result"
    }
   ],
   "source": [
    "b1.decode(\"cp949\")"
   ]
  },
  {
   "cell_type": "code",
   "execution_count": 20,
   "metadata": {},
   "outputs": [
    {
     "data": {
      "text/plain": [
       "'가나다'"
      ]
     },
     "execution_count": 20,
     "metadata": {},
     "output_type": "execute_result"
    }
   ],
   "source": [
    "b2.decode(\"euc-kr\")"
   ]
  },
  {
   "cell_type": "code",
   "execution_count": 21,
   "metadata": {},
   "outputs": [
    {
     "data": {
      "text/plain": [
       "'가나다'"
      ]
     },
     "execution_count": 21,
     "metadata": {},
     "output_type": "execute_result"
    }
   ],
   "source": [
    "b3.decode(\"utf-8\")"
   ]
  },
  {
   "cell_type": "code",
   "execution_count": 23,
   "metadata": {},
   "outputs": [
    {
     "ename": "UnicodeDecodeError",
     "evalue": "'utf-8' codec can't decode byte 0xb0 in position 0: invalid start byte",
     "output_type": "error",
     "traceback": [
      "\u001b[1;31m---------------------------------------------------------------------------\u001b[0m",
      "\u001b[1;31mUnicodeDecodeError\u001b[0m                        Traceback (most recent call last)",
      "\u001b[1;32m<ipython-input-23-5f13d7c3aee1>\u001b[0m in \u001b[0;36m<module>\u001b[1;34m()\u001b[0m\n\u001b[1;32m----> 1\u001b[1;33m \u001b[0mb1\u001b[0m\u001b[1;33m.\u001b[0m\u001b[0mdecode\u001b[0m\u001b[1;33m(\u001b[0m\u001b[1;34m\"utf-8\"\u001b[0m\u001b[1;33m)\u001b[0m\u001b[1;33m\u001b[0m\u001b[0m\n\u001b[0m\u001b[0;32m      2\u001b[0m \u001b[1;31m#원래 형식으로 decode를 해야 제대로 된 문자열이 나온다\u001b[0m\u001b[1;33m\u001b[0m\u001b[1;33m\u001b[0m\u001b[0m\n",
      "\u001b[1;31mUnicodeDecodeError\u001b[0m: 'utf-8' codec can't decode byte 0xb0 in position 0: invalid start byte"
     ]
    }
   ],
   "source": [
    "b1.decode(\"utf-8\")\n",
    "#원래 형식으로 decode를 해야 제대로 된 문자열이 나온다"
   ]
  },
  {
   "cell_type": "code",
   "execution_count": null,
   "metadata": {},
   "outputs": [],
   "source": [
    "#콘솔은 인코딩 된 바이트 열로 동작한다"
   ]
  }
 ],
 "metadata": {
  "kernelspec": {
   "display_name": "Python 3",
   "language": "python",
   "name": "python3"
  },
  "language_info": {
   "codemirror_mode": {
    "name": "ipython",
    "version": 3
   },
   "file_extension": ".py",
   "mimetype": "text/x-python",
   "name": "python",
   "nbconvert_exporter": "python",
   "pygments_lexer": "ipython3",
   "version": "3.6.5"
  }
 },
 "nbformat": 4,
 "nbformat_minor": 2
}
