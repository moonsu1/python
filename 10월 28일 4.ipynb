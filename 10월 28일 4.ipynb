{
 "cells": [
  {
   "cell_type": "markdown",
   "metadata": {},
   "source": [
    "# 파이썬의 문자열 형식화"
   ]
  },
  {
   "cell_type": "code",
   "execution_count": 12,
   "metadata": {},
   "outputs": [
    {
     "name": "stdout",
     "output_type": "stream",
     "text": [
      "my name is vanchris\n"
     ]
    }
   ],
   "source": [
    "vanchris=\"vanchris\"\n",
    "print(\"my name is %s\"%vanchris)"
   ]
  },
  {
   "cell_type": "markdown",
   "metadata": {},
   "source": [
    "# 포멧이 다르면 에러가 생긴다"
   ]
  },
  {
   "cell_type": "code",
   "execution_count": 11,
   "metadata": {},
   "outputs": [
    {
     "ename": "TypeError",
     "evalue": "%d format: a number is required, not str",
     "output_type": "error",
     "traceback": [
      "\u001b[1;31m---------------------------------------------------------------------------\u001b[0m",
      "\u001b[1;31mTypeError\u001b[0m                                 Traceback (most recent call last)",
      "\u001b[1;32m<ipython-input-11-a21b5c4f7630>\u001b[0m in \u001b[0;36m<module>\u001b[1;34m()\u001b[0m\n\u001b[0;32m      1\u001b[0m \u001b[0mvanchris\u001b[0m\u001b[1;33m=\u001b[0m\u001b[1;34m\"vanchris\"\u001b[0m\u001b[1;33m\u001b[0m\u001b[0m\n\u001b[1;32m----> 2\u001b[1;33m \u001b[0mprint\u001b[0m\u001b[1;33m(\u001b[0m\u001b[1;34m\"my name is %d\"\u001b[0m\u001b[1;33m%\u001b[0m\u001b[0mvanchris\u001b[0m\u001b[1;33m)\u001b[0m\u001b[1;33m\u001b[0m\u001b[0m\n\u001b[0m",
      "\u001b[1;31mTypeError\u001b[0m: %d format: a number is required, not str"
     ]
    }
   ],
   "source": [
    "vanchris=\"vanchris\"\n",
    "print(\"my name is %d\"%vanchris)"
   ]
  },
  {
   "cell_type": "markdown",
   "metadata": {},
   "source": [
    "# 여러개를 쓰려면 괄호로 묶어준다"
   ]
  },
  {
   "cell_type": "code",
   "execution_count": 13,
   "metadata": {},
   "outputs": [
    {
     "name": "stdout",
     "output_type": "stream",
     "text": [
      "my is van chris\n"
     ]
    }
   ],
   "source": [
    "print(\"%s is %s %s\"% (\"my\",\"van\",\"chris\"))"
   ]
  },
  {
   "cell_type": "markdown",
   "metadata": {},
   "source": [
    "# 연습문제 3.2.7"
   ]
  },
  {
   "cell_type": "code",
   "execution_count": 14,
   "metadata": {},
   "outputs": [
    {
     "name": "stdout",
     "output_type": "stream",
     "text": [
      "vanchris is 27 years old\n"
     ]
    }
   ],
   "source": [
    "name=\"vanchris\"\n",
    "age=27\n",
    "print(\"%s is %d years old\" % (name,age))"
   ]
  },
  {
   "cell_type": "code",
   "execution_count": 35,
   "metadata": {},
   "outputs": [
    {
     "name": "stdout",
     "output_type": "stream",
     "text": [
      "10/3 =3.3333333333333335\n"
     ]
    }
   ],
   "source": [
    "a=10\n",
    "b=3\n",
    "def moonsu(x,y) :\n",
    "    z = x / y\n",
    "    return(z)\n",
    "\n",
    "\n",
    "print(\"%d/%d =\"%(a,b) ,end=\"\")\n",
    "print(moonsu(a,b))"
   ]
  },
  {
   "cell_type": "code",
   "execution_count": 37,
   "metadata": {},
   "outputs": [
    {
     "data": {
      "text/plain": [
       "\"Jane's score is 100,100,100,100,100,100\""
      ]
     },
     "execution_count": 37,
     "metadata": {},
     "output_type": "execute_result"
    }
   ],
   "source": [
    "\"{1}'s score is {0},{0},{0},{0},{0},{0}\".format(100, \"Jane\")\n",
    "#format문을 쓸때 순서를 지정하여서 일괄적으로 투입되게 만들수 있다."
   ]
  },
  {
   "cell_type": "code",
   "execution_count": 59,
   "metadata": {},
   "outputs": [
    {
     "name": "stdout",
     "output_type": "stream",
     "text": [
      "                   3\n",
      "x                 12\n",
      "--------------------\n",
      "                  36"
     ]
    }
   ],
   "source": [
    "a=3\n",
    "b=12\n",
    "print(\"{:>20}\".format(\"3\"))\n",
    "print(\"{:18}\".format(\"x\"), end=\"\")\n",
    "print(b)\n",
    "print(\"-\" * 20)\n",
    "print(\"{:20}\".format(a*b), end=\"\")\n"
   ]
  },
  {
   "cell_type": "code",
   "execution_count": null,
   "metadata": {},
   "outputs": [],
   "source": []
  }
 ],
 "metadata": {
  "kernelspec": {
   "display_name": "Python 3",
   "language": "python",
   "name": "python3"
  },
  "language_info": {
   "codemirror_mode": {
    "name": "ipython",
    "version": 3
   },
   "file_extension": ".py",
   "mimetype": "text/x-python",
   "name": "python",
   "nbconvert_exporter": "python",
   "pygments_lexer": "ipython3",
   "version": "3.6.5"
  }
 },
 "nbformat": 4,
 "nbformat_minor": 2
}
