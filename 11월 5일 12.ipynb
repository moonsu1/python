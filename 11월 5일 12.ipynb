{
 "cells": [
  {
   "cell_type": "code",
   "execution_count": 2,
   "metadata": {},
   "outputs": [
    {
     "name": "stdout",
     "output_type": "stream",
     "text": [
      "200\n"
     ]
    }
   ],
   "source": [
    "h=10\n",
    "v=20\n",
    "\n",
    "def area(h,v):\n",
    "    return h*v\n",
    "\n",
    "a=area(h,v)\n",
    "print(a)\n",
    "#h, v, area() 이렇게 떨어져있는 3개를 객체 지향에서는 합칠 수 있다."
   ]
  },
  {
   "cell_type": "code",
   "execution_count": 10,
   "metadata": {},
   "outputs": [],
   "source": [
    "class Rectangle(object):\n",
    "\n",
    "    def __init__(self, h, v):\n",
    "        self.h = h\n",
    "        self.v = v\n",
    "\n",
    "    def area(self):\n",
    "        return self.h * self.v"
   ]
  },
  {
   "cell_type": "code",
   "execution_count": 11,
   "metadata": {},
   "outputs": [
    {
     "name": "stdout",
     "output_type": "stream",
     "text": [
      "200\n"
     ]
    }
   ],
   "source": [
    "r = Rectangle(10, 20)\n",
    "a = r.area()\n",
    "print(a)"
   ]
  },
  {
   "cell_type": "code",
   "execution_count": 12,
   "metadata": {},
   "outputs": [
    {
     "data": {
      "text/plain": [
       "10"
      ]
     },
     "execution_count": 12,
     "metadata": {},
     "output_type": "execute_result"
    }
   ],
   "source": [
    "r.h"
   ]
  },
  {
   "cell_type": "code",
   "execution_count": 13,
   "metadata": {},
   "outputs": [
    {
     "data": {
      "text/plain": [
       "200"
      ]
     },
     "execution_count": 13,
     "metadata": {},
     "output_type": "execute_result"
    }
   ],
   "source": [
    "r.area()\n",
    "\n",
    "#여기서 Rectangle은 클래스고 r이 객체이다."
   ]
  },
  {
   "cell_type": "code",
   "execution_count": 15,
   "metadata": {},
   "outputs": [],
   "source": [
    "a = Rectangle(1, 1)   # 가로 1, 세로 1인 사각형\n",
    "b = Rectangle(2, 1)   # 가로 2, 세로 1인 사각형\n",
    "c = Rectangle(4, 2)   # 가로 4, 세로 2인 사각형\n",
    "d = Rectangle(6, 3)   # 가로 6, 세로 3인 사각형\n",
    "e = Rectangle(8, 5)   # 가로 8, 세로 5인 사각형\n",
    "#붕어빵,굽는 틀,   틀이 있으면 붕어빵을 여러개 만들수 있다.  class가 있으면 객체를 통해 parameter만 바꿔서 여러종류의 함수를 슬수 있다."
   ]
  },
  {
   "cell_type": "code",
   "execution_count": 17,
   "metadata": {},
   "outputs": [
    {
     "name": "stdout",
     "output_type": "stream",
     "text": [
      "1\n",
      "2\n",
      "8\n",
      "18\n",
      "40\n"
     ]
    }
   ],
   "source": [
    "print(a.area())\n",
    "print(b.area())\n",
    "print(c.area())\n",
    "print(d.area())\n",
    "print(e.area())"
   ]
  },
  {
   "cell_type": "markdown",
   "metadata": {},
   "source": [
    "# 생성자"
   ]
  },
  {
   "cell_type": "code",
   "execution_count": null,
   "metadata": {},
   "outputs": [],
   "source": [
    "class 클래스이름(object):\n",
    "\n",
    "    def __init__(self, 속성값1, 속성값2, 속성값3):\n",
    "        self.속성이름1 = 속성값1\n",
    "        self.속성이름2 = 속성값2\n",
    "        self.속성이름3 = 속성값3\n",
    "#실제로 클래스 이름을 호출 하면 생성자 함수가 호출되는 것임   __init__ 함수가 호출된다고 생각하면됨 고로 생성자함수의 속성에 기본속성을 대입한다고 생각하면됨"
   ]
  },
  {
   "cell_type": "markdown",
   "metadata": {},
   "source": [
    "# 연습문제 3.2.31"
   ]
  },
  {
   "cell_type": "code",
   "execution_count": 20,
   "metadata": {},
   "outputs": [],
   "source": [
    "class moonsu(object):\n",
    "    def __init__(self, b, h):\n",
    "        self.a = b\n",
    "        self.b = h\n",
    "    def area(self):\n",
    "        return self.a * self.b"
   ]
  },
  {
   "cell_type": "code",
   "execution_count": 28,
   "metadata": {},
   "outputs": [
    {
     "data": {
      "text/plain": [
       "3"
      ]
     },
     "execution_count": 28,
     "metadata": {},
     "output_type": "execute_result"
    }
   ],
   "source": [
    "c=moonsu(2,3)\n",
    "c.area()\n",
    "c.b"
   ]
  },
  {
   "cell_type": "markdown",
   "metadata": {},
   "source": [
    "# 연습문제 3.2.32"
   ]
  },
  {
   "cell_type": "code",
   "execution_count": 29,
   "metadata": {},
   "outputs": [],
   "source": [
    "class moonsu1(object):\n",
    "    def __init__(self, a, b, h):\n",
    "        self.a = a\n",
    "        self.b = b\n",
    "        self.h = h\n",
    "    def volume(self):\n",
    "        return self.a * self.b * self.h\n",
    "    def surface(self):\n",
    "        return self.a * self.b"
   ]
  },
  {
   "cell_type": "code",
   "execution_count": 30,
   "metadata": {},
   "outputs": [],
   "source": [
    "a = moonsu1(2,3,6)"
   ]
  },
  {
   "cell_type": "code",
   "execution_count": 32,
   "metadata": {},
   "outputs": [
    {
     "data": {
      "text/plain": [
       "6"
      ]
     },
     "execution_count": 32,
     "metadata": {},
     "output_type": "execute_result"
    }
   ],
   "source": [
    "a.volume()\n",
    "a.surface()"
   ]
  },
  {
   "cell_type": "markdown",
   "metadata": {},
   "source": [
    "# 상속"
   ]
  },
  {
   "cell_type": "code",
   "execution_count": 34,
   "metadata": {},
   "outputs": [],
   "source": [
    "class Character(object):\n",
    "\n",
    "    def __init__(self):\n",
    "        self.life = 1000\n",
    "\n",
    "    def attacked(self):\n",
    "        self.life -= 10\n",
    "        print(u\"공격받음! 생명력 =\", self.life)"
   ]
  },
  {
   "cell_type": "code",
   "execution_count": 35,
   "metadata": {},
   "outputs": [],
   "source": [
    "a = Character()\n",
    "b = Character()\n",
    "c = Character()"
   ]
  },
  {
   "cell_type": "code",
   "execution_count": 36,
   "metadata": {},
   "outputs": [
    {
     "name": "stdout",
     "output_type": "stream",
     "text": [
      "공격받음! 생명력 = 990\n",
      "공격받음! 생명력 = 980\n",
      "공격받음! 생명력 = 970\n",
      "공격받음! 생명력 = 960\n",
      "공격받음! 생명력 = 950\n"
     ]
    }
   ],
   "source": [
    "a.attacked()\n",
    "a.attacked()\n",
    "a.attacked()\n",
    "a.attacked()\n",
    "a.attacked()"
   ]
  },
  {
   "cell_type": "code",
   "execution_count": 38,
   "metadata": {},
   "outputs": [
    {
     "data": {
      "text/plain": [
       "(950, 1000, 1000)"
      ]
     },
     "execution_count": 38,
     "metadata": {},
     "output_type": "execute_result"
    }
   ],
   "source": [
    "a.life, b.life, c.life\n",
    "#변동이 있었던 객체의 값은 계속 유지된다,"
   ]
  },
  {
   "cell_type": "code",
   "execution_count": 39,
   "metadata": {},
   "outputs": [
    {
     "ename": "SyntaxError",
     "evalue": "invalid syntax (<ipython-input-39-cb3955a4c769>, line 5)",
     "output_type": "error",
     "traceback": [
      "\u001b[1;36m  File \u001b[1;32m\"<ipython-input-39-cb3955a4c769>\"\u001b[1;36m, line \u001b[1;32m5\u001b[0m\n\u001b[1;33m    자식 클래스의 초기화 코드\u001b[0m\n\u001b[1;37m          ^\u001b[0m\n\u001b[1;31mSyntaxError\u001b[0m\u001b[1;31m:\u001b[0m invalid syntax\n"
     ]
    }
   ],
   "source": [
    "class 자식클래스이름(부모클래스이름):\n",
    "\n",
    "    def __init__(self, 속성값1, 속성값2):\n",
    "        super(자식클래스이름, self).__init__()\n",
    "        자식 클래스의 초기화 코드"
   ]
  },
  {
   "cell_type": "code",
   "execution_count": 40,
   "metadata": {},
   "outputs": [],
   "source": [
    "class Warrior(Character):\n",
    "\n",
    "    def __init__(self):\n",
    "        super(Warrior, self).__init__()  #이부분은 부모 클래스의 초기화 생성자를 호출하는 부분이다.\n",
    "        self.strength = 15\n",
    "        self.intelligence = 5"
   ]
  },
  {
   "cell_type": "code",
   "execution_count": 42,
   "metadata": {},
   "outputs": [],
   "source": [
    "class Wizard(Character):\n",
    "\n",
    "    def __init__(self):\n",
    "        super(Wizard, self).__init__()\n",
    "        self.strength = 5\n",
    "        self.intelligence = 15\n",
    "#warrior 와 wizard는 부모 class의 life와 attack 함수를 갖는다"
   ]
  },
  {
   "cell_type": "code",
   "execution_count": 44,
   "metadata": {},
   "outputs": [],
   "source": [
    "a = Warrior()\n",
    "b = Wizard()"
   ]
  },
  {
   "cell_type": "code",
   "execution_count": 45,
   "metadata": {},
   "outputs": [
    {
     "data": {
      "text/plain": [
       "(1000, 1000)"
      ]
     },
     "execution_count": 45,
     "metadata": {},
     "output_type": "execute_result"
    }
   ],
   "source": [
    "a.life, b.life"
   ]
  },
  {
   "cell_type": "code",
   "execution_count": 46,
   "metadata": {},
   "outputs": [
    {
     "data": {
      "text/plain": [
       "15"
      ]
     },
     "execution_count": 46,
     "metadata": {},
     "output_type": "execute_result"
    }
   ],
   "source": [
    "a.strength"
   ]
  },
  {
   "cell_type": "code",
   "execution_count": 47,
   "metadata": {},
   "outputs": [
    {
     "data": {
      "text/plain": [
       "5"
      ]
     },
     "execution_count": 47,
     "metadata": {},
     "output_type": "execute_result"
    }
   ],
   "source": [
    "b.strength"
   ]
  },
  {
   "cell_type": "markdown",
   "metadata": {},
   "source": [
    "# 메서드 오버라이딩\n",
    "# 여러클래스에서 같은 메서드의 이름을 쓰는 것이다"
   ]
  },
  {
   "cell_type": "code",
   "execution_count": 48,
   "metadata": {},
   "outputs": [],
   "source": [
    "class Character(object):\n",
    "\n",
    "    def __init__(self):\n",
    "        self.life = 1000\n",
    "        self.strength = 10\n",
    "        self.intelligence = 10\n",
    "\n",
    "    def attacked(self):\n",
    "        self.life -= 10\n",
    "        print(u\"공격받음! 생명력 =\", self.life)\n",
    "\n",
    "    def attack(self):\n",
    "        print(u\"공격!\")"
   ]
  },
  {
   "cell_type": "code",
   "execution_count": 49,
   "metadata": {},
   "outputs": [],
   "source": [
    "class Warrior(Character):\n",
    "\n",
    "    def __init__(self):\n",
    "        super(Warrior, self).__init__()\n",
    "        self.strength = 15\n",
    "        self.intelligence = 5\n",
    "\n",
    "    def attack(self):\n",
    "        print(u\"육탄 공격!\")"
   ]
  },
  {
   "cell_type": "code",
   "execution_count": 50,
   "metadata": {},
   "outputs": [],
   "source": [
    "class Wizard(Character):\n",
    "\n",
    "    def __init__(self):\n",
    "        super(Wizard, self).__init__()\n",
    "        self.strength = 5\n",
    "        self.intelligence = 15\n",
    "\n",
    "    def attack(self):\n",
    "        print(u\"마법 공격!\")"
   ]
  },
  {
   "cell_type": "code",
   "execution_count": 51,
   "metadata": {},
   "outputs": [],
   "source": [
    "a = Character()\n",
    "b = Warrior()\n",
    "c = Wizard()"
   ]
  },
  {
   "cell_type": "code",
   "execution_count": 53,
   "metadata": {},
   "outputs": [
    {
     "name": "stdout",
     "output_type": "stream",
     "text": [
      "공격!\n"
     ]
    }
   ],
   "source": [
    "a.attack()"
   ]
  },
  {
   "cell_type": "code",
   "execution_count": 54,
   "metadata": {},
   "outputs": [
    {
     "name": "stdout",
     "output_type": "stream",
     "text": [
      "육탄 공격!\n"
     ]
    }
   ],
   "source": [
    "b.attack()"
   ]
  },
  {
   "cell_type": "markdown",
   "metadata": {},
   "source": [
    "# 연습문제 3.2.33"
   ]
  },
  {
   "cell_type": "code",
   "execution_count": 166,
   "metadata": {},
   "outputs": [],
   "source": [
    "class Character(object):\n",
    "\n",
    "    def __init__(self):\n",
    "        self.life = 1000\n",
    "        self.strength = 10\n",
    "        self.intelligence = 10\n",
    "\n",
    "    def attacked(self):\n",
    "        self.life -= 10\n",
    "        print(u\"공격받음! 생명력 =\", self.life)\n",
    "\n",
    "    def attack(self):\n",
    "        print(u\"공격!\")"
   ]
  },
  {
   "cell_type": "code",
   "execution_count": 167,
   "metadata": {},
   "outputs": [],
   "source": [
    "class Warrior(Character):\n",
    "\n",
    "    def __init__(self):\n",
    "        super(Warrior, self).__init__()\n",
    "        self.strength = 15\n",
    "        self.intelligence = 5\n",
    "    def attacked(self):\n",
    "        self.life -= 5\n",
    "        print(u\"공격받음! 생명력 =\", self.life)\n",
    "\n",
    "    def attack(self):\n",
    "        print(u\"육탄 공격!\")"
   ]
  },
  {
   "cell_type": "code",
   "execution_count": 168,
   "metadata": {},
   "outputs": [],
   "source": [
    "class Wizard(Character):\n",
    "\n",
    "    def __init__(self):\n",
    "        super(Wizard, self).__init__()\n",
    "        self.strength = 5\n",
    "        self.intelligence = 15\n",
    "    def attacked(self):\n",
    "        self.life -= 20\n",
    "        print(u\"공격받음! 생명력 =\", self.life)        \n",
    "\n",
    "    def attack(self):\n",
    "        print(u\"마법 공격!\")"
   ]
  },
  {
   "cell_type": "markdown",
   "metadata": {},
   "source": [
    "# super 가 없을 경우를 확인 해보기 위해 만든 예제"
   ]
  },
  {
   "cell_type": "code",
   "execution_count": 160,
   "metadata": {},
   "outputs": [],
   "source": [
    "class Character(object):\n",
    "\n",
    "    def __init__(self,life):\n",
    "        self.life = life\n",
    "        self.strength = 10\n",
    "        self.intelligence = 10\n",
    "\n",
    "    def attacked(self):\n",
    "        self.life -= 10\n",
    "        print(u\"공격받음! 생명력 =\", self.life)\n",
    "\n",
    "    def attack(self):\n",
    "        print(u\"공격!\")"
   ]
  },
  {
   "cell_type": "code",
   "execution_count": 163,
   "metadata": {},
   "outputs": [],
   "source": [
    "#super가 없을 때 상속을 어떻게 받는 지 실험 해보기 위해 만듬\n",
    "class Warrior(Character):\n",
    "\n",
    "\n",
    "    strength = 15\n",
    "    intelligence = 5\n",
    "    def attacked(self):\n",
    "        self.life -= 5\n",
    "        print(u\"공격받음! 생명력 =\", self.life)\n",
    "\n",
    "    def attack(self):\n",
    "        print(u\"육탄 공격!\")"
   ]
  },
  {
   "cell_type": "markdown",
   "metadata": {},
   "source": [
    "# 이 부분 매우 중요 헷갈리지 않게 알아둘것!  super를 써야 될 때가 있고 안써도 되는 경우가 있다는 것만 알아 두자"
   ]
  },
  {
   "cell_type": "code",
   "execution_count": 169,
   "metadata": {},
   "outputs": [
    {
     "ename": "TypeError",
     "evalue": "__init__() takes 1 positional argument but 2 were given",
     "output_type": "error",
     "traceback": [
      "\u001b[1;31m---------------------------------------------------------------------------\u001b[0m",
      "\u001b[1;31mTypeError\u001b[0m                                 Traceback (most recent call last)",
      "\u001b[1;32m<ipython-input-169-609059dbdcf3>\u001b[0m in \u001b[0;36m<module>\u001b[1;34m()\u001b[0m\n\u001b[1;32m----> 1\u001b[1;33m \u001b[0ma\u001b[0m\u001b[1;33m=\u001b[0m\u001b[0mWarrior\u001b[0m\u001b[1;33m(\u001b[0m\u001b[1;36m1000\u001b[0m\u001b[1;33m)\u001b[0m\u001b[1;33m\u001b[0m\u001b[0m\n\u001b[0m\u001b[0;32m      2\u001b[0m \u001b[0ma\u001b[0m\u001b[1;33m.\u001b[0m\u001b[0mattacked\u001b[0m\u001b[1;33m(\u001b[0m\u001b[1;33m)\u001b[0m\u001b[1;33m\u001b[0m\u001b[0m\n\u001b[0;32m      3\u001b[0m \u001b[1;31m#여기서 안되는 이유는 자식 class에 생성자가 있기 때문이다 없애 줘야한다\u001b[0m\u001b[1;33m\u001b[0m\u001b[1;33m\u001b[0m\u001b[0m\n",
      "\u001b[1;31mTypeError\u001b[0m: __init__() takes 1 positional argument but 2 were given"
     ]
    }
   ],
   "source": [
    "a=Warrior(1000)\n",
    "a.attacked()\n",
    "#여기서 안되는 이유는 자식 class에 생성자가 있기 때문이다 없애 줘야한다"
   ]
  },
  {
   "cell_type": "code",
   "execution_count": 164,
   "metadata": {},
   "outputs": [
    {
     "name": "stdout",
     "output_type": "stream",
     "text": [
      "공격받음! 생명력 = 995\n"
     ]
    }
   ],
   "source": [
    "a=Warrior(1000)\n",
    "a.attacked()\n",
    "#여기서 되는 이유는 자식 class에 생성자가 없기 때문이다 "
   ]
  },
  {
   "cell_type": "code",
   "execution_count": 158,
   "metadata": {},
   "outputs": [],
   "source": [
    "a=Warrior()\n",
    "b=Wizard()"
   ]
  },
  {
   "cell_type": "code",
   "execution_count": 159,
   "metadata": {},
   "outputs": [
    {
     "name": "stdout",
     "output_type": "stream",
     "text": [
      "공격받음! 생명력 = 995\n"
     ]
    }
   ],
   "source": [
    "a.attacked()"
   ]
  },
  {
   "cell_type": "code",
   "execution_count": 64,
   "metadata": {},
   "outputs": [
    {
     "name": "stdout",
     "output_type": "stream",
     "text": [
      "공격받음! 생명력 = 980\n"
     ]
    }
   ],
   "source": [
    "b.attacked()"
   ]
  },
  {
   "cell_type": "code",
   "execution_count": 65,
   "metadata": {},
   "outputs": [
    {
     "data": {
      "text/plain": [
       "995"
      ]
     },
     "execution_count": 65,
     "metadata": {},
     "output_type": "execute_result"
    }
   ],
   "source": [
    "a.life"
   ]
  },
  {
   "cell_type": "code",
   "execution_count": 66,
   "metadata": {},
   "outputs": [
    {
     "data": {
      "text/plain": [
       "980"
      ]
     },
     "execution_count": 66,
     "metadata": {},
     "output_type": "execute_result"
    }
   ],
   "source": [
    "b.life"
   ]
  },
  {
   "cell_type": "markdown",
   "metadata": {},
   "source": [
    "# 연습문제 3.2.34"
   ]
  },
  {
   "cell_type": "code",
   "execution_count": 83,
   "metadata": {},
   "outputs": [],
   "source": [
    "class car(object):\n",
    "    def __init__(self):\n",
    "        self.max_speed = 160\n",
    "        self.speed = 0\n",
    "\n",
    "    def speed_up(self):\n",
    "        self.speed+=20\n",
    "        if self.speed>160:\n",
    "            self.speed=160\n",
    "    def speed_down(self):\n",
    "        self.speed-=20\n",
    "        if self.speed<0:\n",
    "            self.speed=0\n",
    "        "
   ]
  },
  {
   "cell_type": "code",
   "execution_count": 90,
   "metadata": {},
   "outputs": [],
   "source": [
    "a=car()\n",
    "b=car()"
   ]
  },
  {
   "cell_type": "code",
   "execution_count": 91,
   "metadata": {},
   "outputs": [],
   "source": [
    "a.speed_up()\n",
    "a.speed_up()\n",
    "a.speed_up()\n",
    "a.speed_up()\n",
    "a.speed_up()\n",
    "a.speed_up()\n",
    "a.speed_up()\n",
    "a.speed_up()"
   ]
  },
  {
   "cell_type": "code",
   "execution_count": 92,
   "metadata": {},
   "outputs": [
    {
     "data": {
      "text/plain": [
       "160"
      ]
     },
     "execution_count": 92,
     "metadata": {},
     "output_type": "execute_result"
    }
   ],
   "source": [
    "a.speed"
   ]
  },
  {
   "cell_type": "code",
   "execution_count": 93,
   "metadata": {},
   "outputs": [],
   "source": [
    "b.speed_down()\n",
    "b.speed_down()\n",
    "b.speed_down()\n",
    "b.speed_down()\n",
    "b.speed_down()\n",
    "b.speed_down()\n",
    "b.speed_down()\n",
    "b.speed_down()"
   ]
  },
  {
   "cell_type": "code",
   "execution_count": 94,
   "metadata": {},
   "outputs": [
    {
     "data": {
      "text/plain": [
       "0"
      ]
     },
     "execution_count": 94,
     "metadata": {},
     "output_type": "execute_result"
    }
   ],
   "source": [
    "b.speed"
   ]
  },
  {
   "cell_type": "markdown",
   "metadata": {},
   "source": [
    "# 특수 메서드"
   ]
  },
  {
   "cell_type": "code",
   "execution_count": 95,
   "metadata": {},
   "outputs": [],
   "source": [
    "class Complex(object):\n",
    "\n",
    "    def __init__(self, realpart, imagpart):\n",
    "        self.r = realpart\n",
    "        self.i = imagpart"
   ]
  },
  {
   "cell_type": "code",
   "execution_count": 106,
   "metadata": {},
   "outputs": [
    {
     "data": {
      "text/plain": [
       "<__main__.Complex at 0x1d6d163c0f0>"
      ]
     },
     "execution_count": 106,
     "metadata": {},
     "output_type": "execute_result"
    }
   ],
   "source": [
    "#주피터에서 변수이름을 입력하고 실행을 하면 __repr__메서드가 호출 되는데, 이는 <>안에 변수가 위치하고 있는 주소를 출력해준다\n",
    "c = Complex(1,2)\n",
    "c"
   ]
  },
  {
   "cell_type": "code",
   "execution_count": 99,
   "metadata": {},
   "outputs": [
    {
     "data": {
      "text/plain": [
       "'<__main__.Complex object at 0x000001D6D16DC048>'"
      ]
     },
     "execution_count": 99,
     "metadata": {},
     "output_type": "execute_result"
    }
   ],
   "source": [
    "#str함수는 c값을 문자로 출력해준다 ' '\n",
    "str(c)"
   ]
  },
  {
   "cell_type": "code",
   "execution_count": 115,
   "metadata": {},
   "outputs": [],
   "source": [
    "#class Complex2에 __repr__ 와 __str__를 \n",
    "class Complex2(Complex):\n",
    "\n",
    "    def __repr__(self):\n",
    "        return \"Complex: real = %f imag = %f\" % (self.r, self.i)\n",
    "\n",
    "    def __str__(self):\n",
    "        return \"[for str] \" + self.__repr__()"
   ]
  },
  {
   "cell_type": "code",
   "execution_count": 117,
   "metadata": {},
   "outputs": [
    {
     "data": {
      "text/plain": [
       "Complex: real = 1.000000 imag = 1.000000"
      ]
     },
     "execution_count": 117,
     "metadata": {},
     "output_type": "execute_result"
    }
   ],
   "source": [
    "c=Complex2(1,1)\n",
    "c"
   ]
  },
  {
   "cell_type": "code",
   "execution_count": 104,
   "metadata": {},
   "outputs": [
    {
     "data": {
      "text/plain": [
       "'[for str] Complex: real = 1.000000 imag = 1.000000'"
      ]
     },
     "execution_count": 104,
     "metadata": {},
     "output_type": "execute_result"
    }
   ],
   "source": [
    "str(c2)\n",
    "#102와 104에서 특수메서드인 __repr__ 와 __str__이 오버라이딩 되어 complex2 class에서는 새로 정의한 함수로 쓰여지는것을 볼 수 있다."
   ]
  },
  {
   "cell_type": "code",
   "execution_count": null,
   "metadata": {},
   "outputs": [],
   "source": []
  }
 ],
 "metadata": {
  "kernelspec": {
   "display_name": "Python 3",
   "language": "python",
   "name": "python3"
  },
  "language_info": {
   "codemirror_mode": {
    "name": "ipython",
    "version": 3
   },
   "file_extension": ".py",
   "mimetype": "text/x-python",
   "name": "python",
   "nbconvert_exporter": "python",
   "pygments_lexer": "ipython3",
   "version": "3.6.5"
  }
 },
 "nbformat": 4,
 "nbformat_minor": 2
}
